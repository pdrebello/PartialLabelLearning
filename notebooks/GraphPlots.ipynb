{
 "cells": [
  {
   "cell_type": "code",
   "execution_count": 132,
   "metadata": {},
   "outputs": [],
   "source": [
    "import json\n",
    "import numpy as np\n",
    "import pandas as pd\n",
    "import argparse\n",
    "import os"
   ]
  },
  {
   "cell_type": "code",
   "execution_count": 133,
   "metadata": {},
   "outputs": [],
   "source": [
    "parser = argparse.ArgumentParser(description = \"Collate all results\")\n",
    "\n",
    "a = parser.add_argument('--results_dir', type=str, help=\"results dir\",required = False)"
   ]
  },
  {
   "cell_type": "code",
   "execution_count": 134,
   "metadata": {},
   "outputs": [],
   "source": [
    "argument = parser.parse_args([])"
   ]
  },
  {
   "cell_type": "code",
   "execution_count": 135,
   "metadata": {},
   "outputs": [],
   "source": [
    "argument.results_dir = '../results/test_xy'"
   ]
  },
  {
   "cell_type": "code",
   "execution_count": 136,
   "metadata": {},
   "outputs": [],
   "source": [
    "datasets = os.listdir(argument.results_dir)"
   ]
  },
  {
   "cell_type": "code",
   "execution_count": 137,
   "metadata": {},
   "outputs": [
    {
     "name": "stdout",
     "output_type": "stream",
     "text": [
      "MSRCv2_flip 3layer weighted_loss_xy_NORM_Adam_0.0001_0.0001\n",
      "MSRCv2_flip 3layer cc_loss\n",
      "MSRCv2_flip 3layer weighted_loss_xy_NORM_Adam_0.1_1e-06\n",
      "MSRCv2_flip 3layer weighted_loss_xy_NORM_Adam_0.01_0.0001\n",
      "MSRCv2_flip 3layer weighted_loss_xy_NORM_SGD_0.1_1e-05\n",
      "MSRCv2_flip 3layer weighted_loss_xy_NORM_SGD_0.01_1e-05\n",
      "MSRCv2_flip 3layer weighted_loss_xy_NORM_Adam_0.0001_1e-06\n",
      "MSRCv2_flip 3layer weighted_loss_xy_TEST_SGD_0.001_1e-05\n",
      "MSRCv2_flip 3layer weighted_loss_xy_NORM_Adam_0.01_1e-06\n",
      "MSRCv2_flip 3layer weighted_loss_xy_TEST_Adam_0.01_1e-05\n",
      "MSRCv2_flip 3layer weighted_loss_xy_TEST_SGD_0.01_1e-05\n",
      "MSRCv2_flip 3layer weighted_loss_xy_NORM_SGD_0.001_1e-06\n",
      "MSRCv2_flip 3layer weighted_loss_xy_TEST_SGD_0.1_0.0001\n",
      "MSRCv2_flip 3layer weighted_loss_xy_NORM_SGD_0.1_0.0001\n",
      "MSRCv2_flip 3layer weighted_loss_xy_TEST_Adam_0.0001_1e-06\n",
      "MSRCv2_flip 3layer weighted_loss_xy_TEST_SGD_0.0001_0.0001\n",
      "MSRCv2_flip 3layer weighted_loss_xy_NORM_Adam_0.001_1e-06\n",
      "MSRCv2_flip 3layer weighted_loss_xy_TEST_Adam_0.001_1e-06\n",
      "MSRCv2_flip 3layer weighted_loss_xy_TEST_Adam_0.001_0.0001\n",
      "MSRCv2_flip 3layer weighted_loss_xy_TEST_SGD_0.01_0.0001\n",
      "MSRCv2_flip 3layer weighted_loss_xy_TEST_Adam_0.1_1e-06\n",
      "MSRCv2_flip 3layer weighted_loss_xy_NORM_Adam_0.1_0.0001\n",
      "MSRCv2_flip 3layer weighted_loss_xy_TEST_SGD_0.01_1e-06\n",
      "MSRCv2_flip 3layer weighted_loss_xy_TEST_Adam_0.1_0.0001\n",
      "MSRCv2_flip 3layer weighted_loss_xy_TEST_Adam_0.0001_0.0001\n",
      "MSRCv2_flip 3layer weighted_loss_xy_TEST_Adam_0.01_1e-06\n",
      "MSRCv2_flip 3layer weighted_loss_xy_NORM_Adam_0.001_0.0001\n",
      "MSRCv2_flip 3layer weighted_loss_xy_TEST_SGD_0.1_1e-05\n",
      "MSRCv2_flip 3layer weighted_loss_xy_NORM_SGD_0.1_1e-06\n",
      "MSRCv2_flip 3layer weighted_loss_xy_NORM_Adam_0.0001_1e-05\n",
      "MSRCv2_flip 3layer weighted_loss_xy_TEST_SGD_0.0001_1e-05\n",
      "MSRCv2_flip 3layer weighted_loss_xy_NORM_Adam_0.1_1e-05\n",
      "MSRCv2_flip 3layer weighted_loss_xy_NORM_SGD_0.01_1e-06\n",
      "MSRCv2_flip 3layer weighted_loss_xy_NORM_SGD_0.001_0.0001\n",
      "MSRCv2_flip 3layer weighted_loss_xy_TEST_SGD_0.1_1e-06\n",
      "MSRCv2_flip 3layer weighted_loss_xy_NORM_SGD_0.001_1e-05\n",
      "MSRCv2_flip 3layer weighted_loss_xy_NORM_Adam_0.01_1e-05\n",
      "MSRCv2_flip 3layer weighted_loss_xy_NORM_Adam_0.001_1e-05\n",
      "MSRCv2_flip 3layer weighted_loss_xy_TEST_Adam_0.01_0.0001\n",
      "MSRCv2_flip 3layer weighted_loss_xy_TEST_SGD_0.001_0.0001\n",
      "MSRCv2_flip 3layer weighted_loss_xy_TEST_SGD_0.001_1e-06\n",
      "MSRCv2_flip 3layer weighted_loss_xy_TEST_Adam_0.001_1e-05\n",
      "MSRCv2_flip 3layer weighted_loss_xy_NORM_SGD_0.0001_0.0001\n",
      "MSRCv2_flip 3layer weighted_loss_xy_TEST_Adam_0.1_1e-05\n",
      "MSRCv2_flip 3layer weighted_loss_xy_TEST_SGD_0.0001_1e-06\n",
      "MSRCv2_flip 3layer weighted_loss_xy_TEST_Adam_0.0001_1e-05\n",
      "MSRCv2_flip 3layer weighted_loss_xy_NORM_SGD_0.0001_1e-06\n",
      "MSRCv2_flip 3layer weighted_loss_xy_NORM_SGD_0.0001_1e-05\n",
      "MSRCv2_flip 3layer weighted_loss_xy_NORM_SGD_0.01_0.0001\n",
      "MSRCv2 3layer weighted_loss_xy_NORM_Adam_0.0001_0.0001\n",
      "MSRCv2 3layer cc_loss\n",
      "MSRCv2 3layer weighted_loss_xy_NORM_Adam_0.1_1e-06\n",
      "MSRCv2 3layer weighted_loss_xy_NORM_Adam_0.01_0.0001\n",
      "MSRCv2 3layer weighted_loss_xy_NORM_SGD_0.1_1e-05\n",
      "MSRCv2 3layer weighted_loss_xy_NORM_SGD_0.01_1e-05\n",
      "MSRCv2 3layer weighted_loss_xy_NORM_Adam_0.0001_1e-06\n",
      "MSRCv2 3layer weighted_loss_xy_TEST_SGD_0.001_1e-05\n",
      "MSRCv2 3layer weighted_loss_xy_NORM_Adam_0.01_1e-06\n",
      "MSRCv2 3layer weighted_loss_xy_TEST_Adam_0.01_1e-05\n",
      "MSRCv2 3layer weighted_loss_xy_TEST_SGD_0.01_1e-05\n",
      "MSRCv2 3layer weighted_loss_xy_NORM_SGD_0.001_1e-06\n",
      "MSRCv2 3layer weighted_loss_xy_TEST_SGD_0.1_0.0001\n",
      "MSRCv2 3layer weighted_loss_xy_NORM_SGD_0.1_0.0001\n",
      "MSRCv2 3layer weighted_loss_xy_TEST_Adam_0.0001_1e-06\n",
      "MSRCv2 3layer weighted_loss_xy_TEST_SGD_0.0001_0.0001\n",
      "MSRCv2 3layer weighted_loss_xy_NORM_Adam_0.001_1e-06\n",
      "MSRCv2 3layer weighted_loss_xy_TEST_Adam_0.001_1e-06\n",
      "MSRCv2 3layer weighted_loss_xy_TEST_Adam_0.001_0.0001\n",
      "MSRCv2 3layer weighted_loss_xy_TEST_SGD_0.01_0.0001\n",
      "MSRCv2 3layer weighted_loss_xy_TEST_Adam_0.1_1e-06\n",
      "MSRCv2 3layer weighted_loss_xy_NORM_Adam_0.1_0.0001\n",
      "MSRCv2 3layer weighted_loss_xy_TEST_SGD_0.01_1e-06\n",
      "MSRCv2 3layer weighted_loss_xy_TEST_Adam_0.1_0.0001\n",
      "MSRCv2 3layer weighted_loss_xy_TEST_Adam_0.0001_0.0001\n",
      "MSRCv2 3layer weighted_loss_xy_TEST_Adam_0.01_1e-06\n",
      "MSRCv2 3layer weighted_loss_xy_NORM_Adam_0.001_0.0001\n",
      "MSRCv2 3layer weighted_loss_xy_TEST_SGD_0.1_1e-05\n",
      "MSRCv2 3layer weighted_loss_xy_NORM_SGD_0.1_1e-06\n",
      "MSRCv2 3layer weighted_loss_xy_NORM_Adam_0.0001_1e-05\n",
      "MSRCv2 3layer weighted_loss_xy_TEST_SGD_0.0001_1e-05\n",
      "MSRCv2 3layer weighted_loss_xy_NORM_Adam_0.1_1e-05\n",
      "MSRCv2 3layer weighted_loss_xy_NORM_SGD_0.01_1e-06\n",
      "MSRCv2 3layer weighted_loss_xy_NORM_SGD_0.001_0.0001\n",
      "MSRCv2 3layer weighted_loss_xy_TEST_SGD_0.1_1e-06\n",
      "MSRCv2 3layer weighted_loss_xy_NORM_SGD_0.001_1e-05\n",
      "MSRCv2 3layer weighted_loss_xy_NORM_Adam_0.01_1e-05\n",
      "MSRCv2 3layer weighted_loss_xy_NORM_Adam_0.001_1e-05\n",
      "MSRCv2 3layer weighted_loss_xy_TEST_Adam_0.01_0.0001\n",
      "MSRCv2 3layer weighted_loss_xy_TEST_SGD_0.001_0.0001\n",
      "MSRCv2 3layer weighted_loss_xy_TEST_SGD_0.001_1e-06\n",
      "MSRCv2 3layer weighted_loss_xy_TEST_Adam_0.001_1e-05\n",
      "MSRCv2 3layer weighted_loss_xy_NORM_SGD_0.0001_0.0001\n",
      "MSRCv2 3layer weighted_loss_xy_TEST_Adam_0.1_1e-05\n",
      "MSRCv2 3layer weighted_loss_xy_TEST_SGD_0.0001_1e-06\n",
      "MSRCv2 3layer weighted_loss_xy_TEST_Adam_0.0001_1e-05\n",
      "MSRCv2 3layer weighted_loss_xy_NORM_SGD_0.0001_1e-06\n",
      "MSRCv2 3layer weighted_loss_xy_NORM_SGD_0.0001_1e-05\n",
      "MSRCv2 3layer weighted_loss_xy_NORM_SGD_0.01_0.0001\n",
      "MSRCv2_noisy_annotator 3layer weighted_loss_xy_NORM_Adam_0.0001_0.0001\n",
      "MSRCv2_noisy_annotator 3layer cc_loss\n",
      "MSRCv2_noisy_annotator 3layer weighted_loss_xy_NORM_Adam_0.1_1e-06\n",
      "MSRCv2_noisy_annotator 3layer weighted_loss_xy_NORM_Adam_0.01_0.0001\n",
      "MSRCv2_noisy_annotator 3layer weighted_loss_xy_NORM_SGD_0.1_1e-05\n",
      "MSRCv2_noisy_annotator 3layer weighted_loss_xy_NORM_SGD_0.01_1e-05\n",
      "MSRCv2_noisy_annotator 3layer weighted_loss_xy_NORM_Adam_0.0001_1e-06\n",
      "MSRCv2_noisy_annotator 3layer weighted_loss_xy_TEST_SGD_0.001_1e-05\n",
      "MSRCv2_noisy_annotator 3layer weighted_loss_xy_NORM_Adam_0.01_1e-06\n",
      "MSRCv2_noisy_annotator 3layer weighted_loss_xy_TEST_Adam_0.01_1e-05\n",
      "MSRCv2_noisy_annotator 3layer weighted_loss_xy_TEST_SGD_0.01_1e-05\n",
      "MSRCv2_noisy_annotator 3layer weighted_loss_xy_NORM_SGD_0.001_1e-06\n",
      "MSRCv2_noisy_annotator 3layer weighted_loss_xy_TEST_SGD_0.1_0.0001\n",
      "MSRCv2_noisy_annotator 3layer weighted_loss_xy_NORM_SGD_0.1_0.0001\n",
      "MSRCv2_noisy_annotator 3layer weighted_loss_xy_TEST_Adam_0.0001_1e-06\n",
      "MSRCv2_noisy_annotator 3layer weighted_loss_xy_TEST_SGD_0.0001_0.0001\n",
      "MSRCv2_noisy_annotator 3layer weighted_loss_xy_NORM_Adam_0.001_1e-06\n",
      "MSRCv2_noisy_annotator 3layer weighted_loss_xy_TEST_Adam_0.001_1e-06\n",
      "MSRCv2_noisy_annotator 3layer weighted_loss_xy_TEST_Adam_0.001_0.0001\n",
      "MSRCv2_noisy_annotator 3layer weighted_loss_xy_TEST_SGD_0.01_0.0001\n",
      "MSRCv2_noisy_annotator 3layer weighted_loss_xy_TEST_Adam_0.1_1e-06\n",
      "MSRCv2_noisy_annotator 3layer weighted_loss_xy_NORM_Adam_0.1_0.0001\n",
      "MSRCv2_noisy_annotator 3layer weighted_loss_xy_TEST_SGD_0.01_1e-06\n",
      "MSRCv2_noisy_annotator 3layer weighted_loss_xy_TEST_Adam_0.1_0.0001\n",
      "MSRCv2_noisy_annotator 3layer weighted_loss_xy_TEST_Adam_0.0001_0.0001\n",
      "MSRCv2_noisy_annotator 3layer weighted_loss_xy_TEST_Adam_0.01_1e-06\n",
      "MSRCv2_noisy_annotator 3layer weighted_loss_xy_NORM_Adam_0.001_0.0001\n",
      "MSRCv2_noisy_annotator 3layer weighted_loss_xy_TEST_SGD_0.1_1e-05\n",
      "MSRCv2_noisy_annotator 3layer weighted_loss_xy_NORM_SGD_0.1_1e-06\n",
      "MSRCv2_noisy_annotator 3layer weighted_loss_xy_NORM_Adam_0.0001_1e-05\n",
      "MSRCv2_noisy_annotator 3layer weighted_loss_xy_TEST_SGD_0.0001_1e-05\n",
      "MSRCv2_noisy_annotator 3layer weighted_loss_xy_NORM_Adam_0.1_1e-05\n",
      "MSRCv2_noisy_annotator 3layer weighted_loss_xy_NORM_SGD_0.01_1e-06\n",
      "MSRCv2_noisy_annotator 3layer weighted_loss_xy_NORM_SGD_0.001_0.0001\n",
      "MSRCv2_noisy_annotator 3layer weighted_loss_xy_TEST_SGD_0.1_1e-06\n",
      "MSRCv2_noisy_annotator 3layer weighted_loss_xy_NORM_SGD_0.001_1e-05\n",
      "MSRCv2_noisy_annotator 3layer weighted_loss_xy_NORM_Adam_0.01_1e-05\n",
      "MSRCv2_noisy_annotator 3layer weighted_loss_xy_NORM_Adam_0.001_1e-05\n",
      "MSRCv2_noisy_annotator 3layer weighted_loss_xy_TEST_Adam_0.01_0.0001\n",
      "MSRCv2_noisy_annotator 3layer weighted_loss_xy_TEST_SGD_0.001_0.0001\n",
      "MSRCv2_noisy_annotator 3layer weighted_loss_xy_TEST_SGD_0.001_1e-06\n",
      "MSRCv2_noisy_annotator 3layer weighted_loss_xy_TEST_Adam_0.001_1e-05\n",
      "MSRCv2_noisy_annotator 3layer weighted_loss_xy_NORM_SGD_0.0001_0.0001\n",
      "MSRCv2_noisy_annotator 3layer weighted_loss_xy_TEST_Adam_0.1_1e-05\n",
      "MSRCv2_noisy_annotator 3layer weighted_loss_xy_TEST_SGD_0.0001_1e-06\n",
      "MSRCv2_noisy_annotator 3layer weighted_loss_xy_TEST_Adam_0.0001_1e-05\n",
      "MSRCv2_noisy_annotator 3layer weighted_loss_xy_NORM_SGD_0.0001_1e-06\n",
      "MSRCv2_noisy_annotator 3layer weighted_loss_xy_NORM_SGD_0.0001_1e-05\n",
      "MSRCv2_noisy_annotator 3layer weighted_loss_xy_NORM_SGD_0.01_0.0001\n"
     ]
    }
   ],
   "source": [
    "test_acc  = []\n",
    "dataframes = {}\n",
    "for dataset in datasets:\n",
    "    model_arcs = os.listdir(os.path.join(argument.results_dir,dataset))\n",
    "    for model_arc in model_arcs:\n",
    "        models = os.listdir(os.path.join(argument.results_dir, dataset, model_arc))\n",
    "        for model in models:\n",
    "            print(dataset, model_arc, model)\n",
    "            folds = os.listdir(os.path.join(argument.results_dir,dataset, model_arc, model))\n",
    "            for fold in ['0']:\n",
    "                log_file = os.path.join(argument.results_dir,dataset, model_arc, model,fold,'logs','log.json')\n",
    "                if os.path.exists(log_file):\n",
    "                    with open(log_file,'r') as fh:\n",
    "                        dat = fh.read()\n",
    "                    dat = pd.read_json(log_file,orient = 'records',lines=True)\n",
    "                    dat['fold'] = fold\n",
    "                    dat['model'] = model\n",
    "                    dat['model_arc'] = model_arc\n",
    "                    dat['dataset'] = dataset\n",
    "                    #print(dat[dat['epoch'] == -1]['best_epoch'])\n",
    "                    \n",
    "                    dataframes[(dataset, model_arc, model)] = dat\n",
    "                    "
   ]
  },
  {
   "cell_type": "code",
   "execution_count": 142,
   "metadata": {},
   "outputs": [
    {
     "data": {
      "image/png": "[encoded data removed]",
      "text/plain": [
       "<Figure size 432x288 with 1 Axes>"
      ]
     },
     "metadata": {
      "needs_background": "light"
     },
     "output_type": "display_data"
    },
    {
     "data": {
      "image/png": "[encoded data removed]",
      "text/plain": [
       "<Figure size 576x432 with 1 Axes>"
      ]
     },
     "metadata": {
      "needs_background": "light"
     },
     "output_type": "display_data"
    }
   ],
   "source": [
    "technique = 'weighted_loss_xy_NORM_Adam_0.001_1e-06'\n",
    "technique = 'weighted_loss_xy_NORM_Adam_0.0001_0.0001'\n",
    "for dataset in ['MSRCv2_noisy_annotator']:\n",
    "    attribute = 'surrogate_train_loss'\n",
    "    dat = dataframes[(dataset, '3layer', technique)]\n",
    "    #print(dat.columns)\n",
    "    ax = dat[(dat['epoch'] >-1)].plot(x='epoch', y=attribute,label = attribute )\n",
    "    \n",
    "    attribute = 'surrogate_val_loss'\n",
    "    dat = dataframes[(dataset, '3layer', technique)]\n",
    "    ax = dat[(dat['epoch'] >-1)].plot(x='epoch', y=attribute,label = attribute,ax=ax )\n",
    "    #dat = dataframes[(dataset,'1layer','linear_rl_P100_Q')]\n",
    "    #dat[(dat['epoch'] != -1)].plot(x='epoch', y=attribute,ax=ax, label = 'linear_rl_P100_Q')\n",
    "    \n",
    "    attribute = 'real_val_loss'\n",
    "    dat = dataframes[(dataset, '3layer', technique)]\n",
    "    ax = dat[(dat['epoch'] >-1)].plot(x='epoch', y=attribute,label = attribute,ax=ax )\n",
    "    \n",
    "    attribute = 'real_train_loss'\n",
    "    dat = dataframes[(dataset, '3layer', technique)]\n",
    "    ax = dat[(dat['epoch'] >-1)].plot(x='epoch', y=attribute,label = attribute,ax=ax )\n",
    "    \n",
    "    ax.set_xlabel('epoch')\n",
    "    ax.set_ylabel(attribute)\n",
    "    ax.set_title(dataset)\n",
    "    fig = ax.get_figure()\n",
    "    fig.show()\n",
    "    #fig.savefig('graphs/'+dataset+'.jpg')\n",
    "    \n",
    "for dataset in ['MSRCv2_noisy_annotator']:\n",
    "    attribute = 'surrogate_train_acc'\n",
    "    dat = dataframes[(dataset, '3layer', technique)]\n",
    "    #print(dat.columns)\n",
    "    ax = dat[(dat['epoch'] != -1)].plot(x='epoch', y=attribute,label = attribute )\n",
    "    \n",
    "    attribute = 'surrogate_val_acc'\n",
    "    dat = dataframes[(dataset, '3layer', technique)]\n",
    "    ax = dat[(dat['epoch'] != -1)].plot(x='epoch', y=attribute,label = attribute,ax=ax )\n",
    "    \n",
    "    attribute = 'real_train_acc'\n",
    "    dat = dataframes[(dataset, '3layer', technique)]\n",
    "    ax = dat[(dat['epoch'] != -1)].plot(x='epoch', y=attribute,label = attribute,ax=ax )\n",
    "    \n",
    "    attribute = 'real_val_acc'\n",
    "    dat = dataframes[(dataset, '3layer', technique)]\n",
    "    ax = dat[(dat['epoch'] != -1)].plot(x='epoch', y=attribute,label = attribute,ax=ax )\n",
    "    \n",
    "    \n",
    "    #dat = dataframes[(dataset,'1layer','linear_rl_P100_Q')]\n",
    "    #dat[(dat['epoch'] != -1)].plot(x='epoch', y=attribute,ax=ax, label = 'linear_rl_P100_Q')\n",
    "    ax.set_xlabel('epoch')\n",
    "    ax.set_ylabel(attribute)\n",
    "    ax.set_title(\"weighted_xy_iexplr_loss\")\n",
    "    fig = ax.get_figure()\n",
    "    fig.set_size_inches(8, 6)\n",
    "    fig.show()\n",
    "    #fig.savefig('graphs/'+dataset+'.jpg')"
   ]
  },
  {
   "cell_type": "code",
   "execution_count": 14,
   "metadata": {},
   "outputs": [
    {
     "name": "stdout",
     "output_type": "stream",
     "text": [
      "dict_keys([])\n"
     ]
    }
   ],
   "source": [
    "print(dataframes.keys())"
   ]
  },
  {
   "cell_type": "code",
   "execution_count": null,
   "metadata": {},
   "outputs": [],
   "source": []
  }
 ],
 "metadata": {
  "kernelspec": {
   "display_name": "Python 3",
   "language": "python",
   "name": "python3"
  },
  "language_info": {
   "codemirror_mode": {
    "name": "ipython",
    "version": 3
   },
   "file_extension": ".py",
   "mimetype": "text/x-python",
   "name": "python",
   "nbconvert_exporter": "python",
   "pygments_lexer": "ipython3",
   "version": "3.7.9"
  }
 },
 "nbformat": 4,
 "nbformat_minor": 4
}
